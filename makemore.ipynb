{
  "cells": [
    {
      "cell_type": "markdown",
      "metadata": {
        "id": "zwSp_9w5hiNH"
      },
      "source": [
        "# **makemore** character level language model"
      ]
    },
    {
      "cell_type": "markdown",
      "metadata": {
        "id": "GQY6uUuUkgaq"
      },
      "source": [
        "### reading and exploring the dataset"
      ]
    },
    {
      "cell_type": "code",
      "execution_count": 1,
      "metadata": {
        "colab": {
          "base_uri": "https://localhost:8080/"
        },
        "id": "Mzbws9Rih5mg",
        "outputId": "5860ddca-8a31-4f37-f5eb-6193092ee1fe"
      },
      "outputs": [
        {
          "data": {
            "text/plain": [
              "['emma', 'olivia', 'ava', 'isabella', 'sophia']"
            ]
          },
          "execution_count": 1,
          "metadata": {},
          "output_type": "execute_result"
        }
      ],
      "source": [
        "words = open('names.txt', 'r').read()\n",
        "words = words.splitlines()\n",
        "words[:5]"
      ]
    },
    {
      "cell_type": "code",
      "execution_count": 2,
      "metadata": {
        "colab": {
          "base_uri": "https://localhost:8080/"
        },
        "id": "4FCMlELokm4U",
        "outputId": "90ee45d3-3639-4aad-981a-230227b1efdb"
      },
      "outputs": [
        {
          "data": {
            "text/plain": [
              "32033"
            ]
          },
          "execution_count": 2,
          "metadata": {},
          "output_type": "execute_result"
        }
      ],
      "source": [
        "len(words)"
      ]
    },
    {
      "cell_type": "code",
      "execution_count": 3,
      "metadata": {
        "colab": {
          "base_uri": "https://localhost:8080/"
        },
        "id": "1d-luJAhksLq",
        "outputId": "48b171cf-7558-42dd-a2f7-108f267b794f"
      },
      "outputs": [
        {
          "data": {
            "text/plain": [
              "(15, 2)"
            ]
          },
          "execution_count": 3,
          "metadata": {},
          "output_type": "execute_result"
        }
      ],
      "source": [
        "max(len(word) for word in words), min(len(word) for word in words)"
      ]
    },
    {
      "cell_type": "markdown",
      "metadata": {
        "id": "KjnjVGQeudqi"
      },
      "source": [
        "### exploring the bigrams in the dataset"
      ]
    },
    {
      "cell_type": "code",
      "execution_count": 4,
      "metadata": {
        "colab": {
          "base_uri": "https://localhost:8080/"
        },
        "id": "jwkALk6plJFm",
        "outputId": "abf46f7b-e938-4265-d5fa-5f688ac60ad8"
      },
      "outputs": [
        {
          "name": "stdout",
          "output_type": "stream",
          "text": [
            "e m\n",
            "m m\n",
            "m a\n",
            "\n",
            "o l\n",
            "l i\n",
            "i v\n",
            "v i\n",
            "i a\n",
            "\n",
            "a v\n",
            "v a\n",
            "\n"
          ]
        }
      ],
      "source": [
        "for word in words[:3]:\n",
        "  for ch1, ch2 in zip(word, word[1:]):\n",
        "    print(ch1, ch2)\n",
        "  print()"
      ]
    },
    {
      "cell_type": "code",
      "execution_count": 5,
      "metadata": {
        "colab": {
          "base_uri": "https://localhost:8080/"
        },
        "id": "BhHk-yI7vfSh",
        "outputId": "1a181709-6b6a-4a45-bf6b-6aa8d18e0bda"
      },
      "outputs": [
        {
          "name": "stdout",
          "output_type": "stream",
          "text": [
            "<S> e\n",
            "e m\n",
            "m m\n",
            "m a\n",
            "a <E>\n",
            "\n",
            "<S> o\n",
            "o l\n",
            "l i\n",
            "i v\n",
            "v i\n",
            "i a\n",
            "a <E>\n",
            "\n",
            "<S> a\n",
            "a v\n",
            "v a\n",
            "a <E>\n",
            "\n"
          ]
        }
      ],
      "source": [
        "for word in words[:3]:\n",
        "  chs = ['<S>'] + list(word) + ['<E>']\n",
        "  for ch1, ch2 in zip(chs, chs[1:]):\n",
        "    print(ch1, ch2)\n",
        "  print()"
      ]
    },
    {
      "cell_type": "code",
      "execution_count": null,
      "metadata": {
        "id": "eaXvFzQovtfB"
      },
      "outputs": [],
      "source": []
    }
  ],
  "metadata": {
    "colab": {
      "authorship_tag": "ABX9TyNlUgM/KXSowoO0WpXF1YLR",
      "provenance": []
    },
    "kernelspec": {
      "display_name": "Python 3",
      "name": "python3"
    },
    "language_info": {
      "codemirror_mode": {
        "name": "ipython",
        "version": 3
      },
      "file_extension": ".py",
      "mimetype": "text/x-python",
      "name": "python",
      "nbconvert_exporter": "python",
      "pygments_lexer": "ipython3",
      "version": "3.12.0"
    }
  },
  "nbformat": 4,
  "nbformat_minor": 0
}
