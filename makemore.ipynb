{
  "cells": [
    {
      "cell_type": "markdown",
      "metadata": {
        "id": "zwSp_9w5hiNH"
      },
      "source": [
        "# **makemore** character level language model"
      ]
    },
    {
      "cell_type": "markdown",
      "metadata": {
        "id": "GQY6uUuUkgaq"
      },
      "source": [
        "### reading and exploring the dataset"
      ]
    },
    {
      "cell_type": "code",
      "execution_count": 1,
      "metadata": {
        "colab": {
          "base_uri": "https://localhost:8080/"
        },
        "id": "Mzbws9Rih5mg",
        "outputId": "27780275-1dca-4c5c-8393-9f67975f097f"
      },
      "outputs": [
        {
          "data": {
            "text/plain": [
              "['emma', 'olivia', 'ava', 'isabella', 'sophia']"
            ]
          },
          "execution_count": 1,
          "metadata": {},
          "output_type": "execute_result"
        }
      ],
      "source": [
        "words = open('names.txt', 'r').read()\n",
        "words = words.splitlines()\n",
        "words[:5]"
      ]
    },
    {
      "cell_type": "code",
      "execution_count": 2,
      "metadata": {
        "colab": {
          "base_uri": "https://localhost:8080/"
        },
        "id": "4FCMlELokm4U",
        "outputId": "89e55c9a-07a4-4013-ee87-45fb4cb6166c"
      },
      "outputs": [
        {
          "data": {
            "text/plain": [
              "32033"
            ]
          },
          "execution_count": 2,
          "metadata": {},
          "output_type": "execute_result"
        }
      ],
      "source": [
        "len(words)"
      ]
    },
    {
      "cell_type": "code",
      "execution_count": 3,
      "metadata": {
        "colab": {
          "base_uri": "https://localhost:8080/"
        },
        "id": "1d-luJAhksLq",
        "outputId": "08263c9f-8975-4216-edc8-f9b66a05797d"
      },
      "outputs": [
        {
          "data": {
            "text/plain": [
              "(15, 2)"
            ]
          },
          "execution_count": 3,
          "metadata": {},
          "output_type": "execute_result"
        }
      ],
      "source": [
        "max(len(word) for word in words), min(len(word) for word in words)"
      ]
    },
    {
      "cell_type": "markdown",
      "metadata": {
        "id": "KjnjVGQeudqi"
      },
      "source": [
        "### counting bigrams in a python dictionary"
      ]
    },
    {
      "cell_type": "code",
      "execution_count": 4,
      "metadata": {
        "id": "BhHk-yI7vfSh"
      },
      "outputs": [],
      "source": [
        "b = dict()\n",
        "for word in words:\n",
        "  chs = ['<S>'] + list(word) + ['<E>']\n",
        "  for ch1, ch2 in zip(chs, chs[1:]):\n",
        "    bigram = (ch1, ch2)\n",
        "    b[bigram] = b.get(bigram, 0) + 1\n",
        "\n",
        "b = sorted(b.items(), key = lambda kv : -kv[1])"
      ]
    },
    {
      "cell_type": "code",
      "execution_count": null,
      "metadata": {
        "id": "eaXvFzQovtfB"
      },
      "outputs": [],
      "source": []
    }
  ],
  "metadata": {
    "colab": {
      "authorship_tag": "ABX9TyOp1S6TPJZBIAYHlAyaomCs",
      "provenance": []
    },
    "kernelspec": {
      "display_name": "Python 3",
      "name": "python3"
    },
    "language_info": {
      "codemirror_mode": {
        "name": "ipython",
        "version": 3
      },
      "file_extension": ".py",
      "mimetype": "text/x-python",
      "name": "python",
      "nbconvert_exporter": "python",
      "pygments_lexer": "ipython3",
      "version": "3.12.0"
    }
  },
  "nbformat": 4,
  "nbformat_minor": 0
}
